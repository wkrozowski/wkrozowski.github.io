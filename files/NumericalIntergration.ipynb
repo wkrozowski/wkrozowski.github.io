{
 "cells": [
  {
   "cell_type": "code",
   "execution_count": 53,
   "id": "2c6d8690",
   "metadata": {},
   "outputs": [],
   "source": [
    "from matplotlib import pyplot as plt\n",
    "import numpy as np\n",
    "import sympy as sym\n",
    "import math "
   ]
  },
  {
   "cell_type": "code",
   "execution_count": 54,
   "id": "83219f71",
   "metadata": {},
   "outputs": [],
   "source": [
    "#define our function\n",
    "x=sym.Symbol('x');\n",
    "f=x**2\n",
    "\n",
    "#number of subdivisions\n",
    "n=10"
   ]
  },
  {
   "cell_type": "markdown",
   "id": "59f29c20",
   "metadata": {},
   "source": [
    "**Rectangle Rule**"
   ]
  },
  {
   "cell_type": "code",
   "execution_count": 55,
   "id": "02e356ee",
   "metadata": {
    "tags": []
   },
   "outputs": [],
   "source": [
    "def rectangle(f1,a1,b1,n1):\n",
    "    x1=a1;\n",
    "    y1=f.subs(x,a1);\n",
    "    h=(b1-a1)/n1;\n",
    "    Int=0;\n",
    "    for i in range(n1):\n",
    "        Int=Int+h*y1;\n",
    "        x1=x1+h;\n",
    "        y1=f.subs(x,x1);\n",
    "    return Int;"
   ]
  },
  {
   "cell_type": "markdown",
   "id": "9eb4d131",
   "metadata": {},
   "source": [
    "**Trapezoid Rule:**"
   ]
  },
  {
   "cell_type": "code",
   "execution_count": 56,
   "id": "c8dd9e1b",
   "metadata": {},
   "outputs": [],
   "source": [
    "def trapezoid(f1,a1,b1,n1):\n",
    "    x1=a1;\n",
    "    y1=f.subs(x,a1);\n",
    "    h=(b1-a1)/n1;\n",
    "    Int=0;\n",
    "    for i in range(n1):\n",
    "        Int=Int+(h/2)*(y1+f.subs(x,x1+h))\n",
    "        x1=x1+h;\n",
    "        y1=f.subs(x,x1);\n",
    "    return Int;"
   ]
  },
  {
   "cell_type": "code",
   "execution_count": 57,
   "id": "76161ae5",
   "metadata": {},
   "outputs": [
    {
     "name": "stdout",
     "output_type": "stream",
     "text": [
      "0.332833500000001\n"
     ]
    }
   ],
   "source": [
    "print(rectangle(f,0,1,1000));"
   ]
  },
  {
   "cell_type": "code",
   "execution_count": 58,
   "id": "70997947",
   "metadata": {},
   "outputs": [
    {
     "name": "stdout",
     "output_type": "stream",
     "text": [
      "0.333333500000000\n"
     ]
    }
   ],
   "source": [
    "print(trapezoid(f,0,1,1000));"
   ]
  },
  {
   "cell_type": "code",
   "execution_count": null,
   "id": "ac51e097",
   "metadata": {},
   "outputs": [],
   "source": []
  }
 ],
 "metadata": {
  "kernelspec": {
   "display_name": "Python 3",
   "language": "python",
   "name": "python3"
  },
  "language_info": {
   "codemirror_mode": {
    "name": "ipython",
    "version": 3
   },
   "file_extension": ".py",
   "mimetype": "text/x-python",
   "name": "python",
   "nbconvert_exporter": "python",
   "pygments_lexer": "ipython3",
   "version": "3.8.5"
  }
 },
 "nbformat": 4,
 "nbformat_minor": 5
}
