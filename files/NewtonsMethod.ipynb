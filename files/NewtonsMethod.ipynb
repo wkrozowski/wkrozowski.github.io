{
 "cells": [
  {
   "cell_type": "code",
   "execution_count": 9,
   "id": "89a9b82e",
   "metadata": {},
   "outputs": [],
   "source": [
    "from matplotlib import pyplot as plt\n",
    "import numpy as np\n",
    "import sympy as sym\n",
    "import math "
   ]
  },
  {
   "cell_type": "code",
   "execution_count": 10,
   "id": "feaca597",
   "metadata": {},
   "outputs": [],
   "source": [
    "#Starting Point\n",
    "a=2;\n",
    "#Accuracy Tolerance\n",
    "d=0.00000001;\n",
    "#list of values\n",
    "L=[a];\n",
    "#Maximum number of iterations\n",
    "k=1000"
   ]
  },
  {
   "cell_type": "code",
   "execution_count": 11,
   "id": "c5346d22",
   "metadata": {},
   "outputs": [],
   "source": [
    "#define our function\n",
    "x=sym.Symbol('x');\n",
    "f=3*x-sym.cos(x);\n",
    "df=sym.diff(f);"
   ]
  },
  {
   "cell_type": "code",
   "execution_count": 12,
   "id": "6b0f8c18",
   "metadata": {},
   "outputs": [
    {
     "name": "stdout",
     "output_type": "stream",
     "text": [
      "[2, 0.35874681918049856, 0.3169984800493685, 0.3167508375698211, 0.3167508287712212]\n"
     ]
    }
   ],
   "source": [
    "#print(df.subs(x, 2));\n",
    "b=a-(f.subs(x,a))/(df.subs(x, a));\n",
    "L.append(float(b));\n",
    "#print(L);\n",
    "i=1\n",
    "\n",
    "while (abs(f.subs(x,b))>d and i<k):\n",
    "    b=L[i]-(f.subs(x,L[i]))/(df.subs(x, L[i]));\n",
    "    L.append(float(b));\n",
    "    i=i+1;\n",
    "print(L)"
   ]
  },
  {
   "cell_type": "code",
   "execution_count": 14,
   "id": "2a784933",
   "metadata": {},
   "outputs": [
    {
     "name": "stdout",
     "output_type": "stream",
     "text": [
      "The zero of the function is reached for x= 0.3167508287712212\n",
      "The computation required 5  steps.\n",
      "[2, 0.35874681918049856, 0.3169984800493685, 0.3167508375698211, 0.3167508287712212]\n"
     ]
    },
    {
     "data": {
      "image/png": "[encoded data removed]",
      "text/plain": [
       "<Figure size 432x288 with 1 Axes>"
      ]
     },
     "metadata": {
      "needs_background": "light"
     },
     "output_type": "display_data"
    }
   ],
   "source": [
    "Ly=L.copy();\n",
    "#Lx[0]=float(f.subs(x, Lx[0]));\n",
    "\n",
    "for j in range(len(Ly)):\n",
    "   Ly[j]=float(f.subs(x, Ly[j]));\n",
    "\n",
    "#Range to plot the function\n",
    "Fx=np.arange (-2, 3, 0.05);\n",
    "Fy=Fx.copy();\n",
    "\n",
    "for j in range(len(Fx)):\n",
    "   Fy[j]=float(f.subs(x, Fy[j]));\n",
    "\n",
    "#print(L);\n",
    "#print(Ly);\n",
    "minx=L[len(L)-1];\n",
    "miny=Ly[len(Ly)-1];\n",
    "print('The zero of the function is reached for x=', minx);\n",
    "print('The computation required', len(L), ' steps.');\n",
    "print(L);\n",
    "plt.plot(Fx, Fy);\n",
    "plt.plot(L, Ly);\n",
    "plt.plot(minx, miny, marker=\"o\", markersize=5, markeredgecolor=\"red\",\n",
    "markerfacecolor=\"red\");\n",
    "\n",
    "\n",
    "\n",
    "plt.show()"
   ]
  },
  {
   "cell_type": "code",
   "execution_count": null,
   "id": "e3d0a85f",
   "metadata": {},
   "outputs": [],
   "source": []
  }
 ],
 "metadata": {
  "kernelspec": {
   "display_name": "Python 3",
   "language": "python",
   "name": "python3"
  },
  "language_info": {
   "codemirror_mode": {
    "name": "ipython",
    "version": 3
   },
   "file_extension": ".py",
   "mimetype": "text/x-python",
   "name": "python",
   "nbconvert_exporter": "python",
   "pygments_lexer": "ipython3",
   "version": "3.8.5"
  }
 },
 "nbformat": 4,
 "nbformat_minor": 5
}
