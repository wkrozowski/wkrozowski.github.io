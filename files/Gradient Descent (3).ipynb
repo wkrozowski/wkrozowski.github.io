{
 "cells": [
  {
   "cell_type": "markdown",
   "metadata": {},
   "source": [
    "# Gradient Descent\n",
    "\n",
    "First we must define import the desired **libraries**, which we will use for mathematical operators and symbolic mathematics."
   ]
  },
  {
   "cell_type": "code",
   "execution_count": 1,
   "metadata": {},
   "outputs": [
    {
     "name": "stdout",
     "output_type": "stream",
     "text": [
      "yes\n"
     ]
    }
   ],
   "source": [
    "from matplotlib import pyplot as plt\n",
    "import numpy as np\n",
    "import sympy as sym\n",
    "import math "
   ]
  },
  {
   "cell_type": "markdown",
   "metadata": {},
   "source": [
    "Now we define our **parameters** for gradient descent as well as a list to store the values we will calculate. We also define a maximum number of iterations to avoid an infinite loop."
   ]
  },
  {
   "cell_type": "code",
   "execution_count": 2,
   "metadata": {},
   "outputs": [],
   "source": [
    "#Learning Rate\n",
    "r=0.1;\n",
    "#Accuracy Tolerance\n",
    "d=0.01;\n",
    "#Starting Point\n",
    "a=2;\n",
    "#list of values\n",
    "L=[a];\n",
    "#Maximum number of iterations\n",
    "k=1000"
   ]
  },
  {
   "cell_type": "markdown",
   "metadata": {},
   "source": [
    "Now we define the **function** on which we will operate the gradient descent. We use Python's symbolic mathematics tools to calculate its derivative."
   ]
  },
  {
   "cell_type": "code",
   "execution_count": 3,
   "metadata": {},
   "outputs": [],
   "source": [
    "#define our function\n",
    "x=sym.Symbol('x');\n",
    "f=(-sym.cos(x)-x)/(1+x**2);\n",
    "df=sym.diff(f);"
   ]
  },
  {
   "cell_type": "markdown",
   "metadata": {},
   "source": [
    "Now we can run the gradient descent algorithm. We start by calculating the first value after our starting point, then we enter the loop."
   ]
  },
  {
   "cell_type": "code",
   "execution_count": 4,
   "metadata": {},
   "outputs": [],
   "source": [
    "#print(df.subs(x, 2));\n",
    "b=a-r*(df.subs(x, 2));\n",
    "L.append(float(b));\n",
    "#print(L);\n",
    "i=1\n",
    "\n",
    "while (abs(L[i]-L[i-1])>d and i<k):\n",
    "    l=L[i]-r*(df.subs(x, L[i]));\n",
    "    L.append(float(l));\n",
    "    i=i+1;\n",
    "#print(L)\n"
   ]
  },
  {
   "cell_type": "markdown",
   "metadata": {},
   "source": [
    "Once the algorithm terminates, we do some bookkeeping on a few lists to facilitate plotting. Finally we can plot the graph of the function together with the gradient descent, and we return the minimum."
   ]
  },
  {
   "cell_type": "code",
   "execution_count": 5,
   "metadata": {},
   "outputs": [
    {
     "name": "stdout",
     "output_type": "stream",
     "text": [
      "The minimum of the function is y= -1.1508201545756092 , which is reached for x= 0.3287477009149346\n",
      "The computation required 40  steps.\n"
     ]
    },
    {
     "data": {
      "image/png": "[encoded data removed]",
      "text/plain": [
       "<Figure size 432x288 with 1 Axes>"
      ]
     },
     "metadata": {
      "needs_background": "light"
     },
     "output_type": "display_data"
    }
   ],
   "source": [
    "Ly=L.copy();\n",
    "#Lx[0]=float(f.subs(x, Lx[0]));\n",
    "\n",
    "for j in range(len(Ly)):\n",
    "   Ly[j]=float(f.subs(x, Ly[j]));\n",
    "\n",
    "#Range to plot the function\n",
    "Fx=np.arange (-2, 3, 0.05);\n",
    "Fy=Fx.copy();\n",
    "\n",
    "for j in range(len(Fx)):\n",
    "   Fy[j]=float(f.subs(x, Fy[j]));\n",
    "\n",
    "#print(L);\n",
    "#print(Ly);\n",
    "minx=L[len(L)-1];\n",
    "miny=Ly[len(Ly)-1];\n",
    "print('The minimum of the function is y=', miny, ', which is reached for x=', minx);\n",
    "print('The computation required', len(L), ' steps.');\n",
    "#print(L);\n",
    "plt.plot(Fx, Fy);\n",
    "plt.plot(L, Ly);\n",
    "plt.plot(minx, miny, marker=\"o\", markersize=5, markeredgecolor=\"red\",\n",
    "markerfacecolor=\"red\");\n",
    "\n",
    "plt.show()"
   ]
  },
  {
   "cell_type": "code",
   "execution_count": null,
   "metadata": {},
   "outputs": [],
   "source": []
  },
  {
   "cell_type": "code",
   "execution_count": null,
   "metadata": {},
   "outputs": [],
   "source": []
  },
  {
   "cell_type": "code",
   "execution_count": null,
   "metadata": {},
   "outputs": [],
   "source": []
  },
  {
   "cell_type": "code",
   "execution_count": null,
   "metadata": {},
   "outputs": [],
   "source": []
  }
 ],
 "metadata": {
  "kernelspec": {
   "display_name": "Python 3",
   "language": "python",
   "name": "python3"
  },
  "language_info": {
   "codemirror_mode": {
    "name": "ipython",
    "version": 3
   },
   "file_extension": ".py",
   "mimetype": "text/x-python",
   "name": "python",
   "nbconvert_exporter": "python",
   "pygments_lexer": "ipython3",
   "version": "3.8.5"
  }
 },
 "nbformat": 4,
 "nbformat_minor": 4
}
